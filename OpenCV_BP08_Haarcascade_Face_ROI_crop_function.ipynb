{
 "cells": [
  {
   "cell_type": "code",
   "execution_count": 1,
   "metadata": {},
   "outputs": [],
   "source": [
    "import glob\n",
    "import numpy as np\n",
    "import cv2\n",
    "import matplotlib.pyplot as plt"
   ]
  },
  {
   "cell_type": "code",
   "execution_count": 2,
   "metadata": {},
   "outputs": [],
   "source": [
    "def detect_roi(image):\n",
    "    gray = cv2.cvtColor(image,cv2.COLOR_BGR2GRAY)\n",
    "    haar = cv2.CascadeClassifier('haarcascade_frontalface_default.xml')\n",
    "    faces = haar.detectMultiScale(gray,1.3,5)\n",
    "    if len(faces) == 1:\n",
    "        x,y,w,h = faces[0][0],faces[0][1],faces[0][2],faces[0][3]\n",
    "        crop = image[y:y+h,x:x+w]\n",
    "        return crop\n",
    "    else:\n",
    "        pass\n",
    "\n",
    "    "
   ]
  },
  {
   "cell_type": "code",
   "execution_count": 3,
   "metadata": {},
   "outputs": [],
   "source": [
    "images = [cv2.imread(file) for file in glob.glob(\"C:/Users/eugur/Jupyter/ITU_Farplas_Deep_Learning/data/male/*.jpg\")]"
   ]
  },
  {
   "cell_type": "code",
   "execution_count": 4,
   "metadata": {},
   "outputs": [],
   "source": [
    "new_images  = []\n",
    "for i in images:\n",
    "    k = detect_roi(i)\n",
    "    new_images.append(k)"
   ]
  },
  {
   "cell_type": "code",
   "execution_count": 5,
   "metadata": {},
   "outputs": [],
   "source": [
    "for i,k in enumerate(new_images):\n",
    "    cv2.imwrite(\"C:/Users/eugur/Jupyter/ITU_Farplas_Deep_Learning/data/male_crop/{}.jpg\".format(i),k)"
   ]
  },
  {
   "cell_type": "code",
   "execution_count": 6,
   "metadata": {},
   "outputs": [],
   "source": [
    "images_2 = [cv2.imread(file) for file in glob.glob(\"C:/Users/eugur/Jupyter/ITU_Farplas_Deep_Learning/data/female/*.jpg\")]"
   ]
  },
  {
   "cell_type": "code",
   "execution_count": 15,
   "metadata": {},
   "outputs": [],
   "source": [
    "new_images_2  = []\n",
    "for i in images_2:\n",
    "    k = detect_roi(i)\n",
    "    new_images_2.append(k)"
   ]
  },
  {
   "cell_type": "code",
   "execution_count": 16,
   "metadata": {},
   "outputs": [],
   "source": [
    "for i,k in enumerate(new_images_2):\n",
    "    cv2.imwrite(\"C:/Users/eugur/Jupyter/ITU_Farplas_Deep_Learning/data/female_crop/{}.jpg\".format(i),k)"
   ]
  },
  {
   "cell_type": "code",
   "execution_count": 14,
   "metadata": {},
   "outputs": [
    {
     "data": {
      "text/plain": [
       "7000"
      ]
     },
     "execution_count": 14,
     "metadata": {},
     "output_type": "execute_result"
    }
   ],
   "source": [
    "len(images_2)"
   ]
  },
  {
   "cell_type": "code",
   "execution_count": null,
   "metadata": {},
   "outputs": [],
   "source": []
  }
 ],
 "metadata": {
  "kernelspec": {
   "display_name": "Python 3",
   "language": "python",
   "name": "python3"
  },
  "language_info": {
   "codemirror_mode": {
    "name": "ipython",
    "version": 3
   },
   "file_extension": ".py",
   "mimetype": "text/x-python",
   "name": "python",
   "nbconvert_exporter": "python",
   "pygments_lexer": "ipython3",
   "version": "3.7.3"
  }
 },
 "nbformat": 4,
 "nbformat_minor": 4
}
