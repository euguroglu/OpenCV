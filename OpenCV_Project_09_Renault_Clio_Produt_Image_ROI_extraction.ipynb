{
 "cells": [
  {
   "cell_type": "code",
   "execution_count": 38,
   "metadata": {},
   "outputs": [],
   "source": [
    "import glob\n",
    "import numpy as np\n",
    "import cv2\n",
    "import matplotlib.pyplot as plt"
   ]
  },
  {
   "cell_type": "code",
   "execution_count": 14,
   "metadata": {},
   "outputs": [],
   "source": [
    "def detect_roi(image):\n",
    "    orig_image = image.copy()\n",
    "    gray = cv2.cvtColor(image,cv2.COLOR_BGR2GRAY)\n",
    "    img = gray.copy()\n",
    "    blurred_img = cv2.bilateralFilter(img,9,75,75)\n",
    "    ret,th1 = cv2.threshold(blurred_img,127,255,cv2.THRESH_BINARY_INV)\n",
    "    contours= cv2.findContours(th1, cv2.RETR_EXTERNAL, cv2.CHAIN_APPROX_SIMPLE)\n",
    "    contours = contours[0] if len(contours) == 2 else contours[1]\n",
    "    contours = sorted(contours, key = cv2.contourArea, reverse = True)\n",
    "    x,y,w,h = cv2.boundingRect(contours[0])\n",
    "    ROI = orig_image[y:y+h,x:x+w]\n",
    "    return ROI"
   ]
  },
  {
   "cell_type": "code",
   "execution_count": 56,
   "metadata": {},
   "outputs": [],
   "source": [
    "images = [cv2.imread(file) for file in glob.glob(\"C:/Users/eugur/Jupyter/ITU_Farplas_Deep_Learning/Non-Defective/*.jpg\")]"
   ]
  },
  {
   "cell_type": "code",
   "execution_count": 59,
   "metadata": {},
   "outputs": [
    {
     "data": {
      "text/plain": [
       "77"
      ]
     },
     "execution_count": 59,
     "metadata": {},
     "output_type": "execute_result"
    }
   ],
   "source": [
    "len(images)"
   ]
  },
  {
   "cell_type": "code",
   "execution_count": 63,
   "metadata": {},
   "outputs": [],
   "source": [
    "new_images  = []\n",
    "for i in images:\n",
    "    k = detect_roi(i)\n",
    "    new_images.append(k)"
   ]
  },
  {
   "cell_type": "code",
   "execution_count": 66,
   "metadata": {},
   "outputs": [],
   "source": [
    "for i,k in enumerate(new_images):\n",
    "    cv2.imwrite(\"C:/Users/eugur/Jupyter/ITU_Farplas_Deep_Learning/Non-Defective/{}.jpg\".format(i),k)"
   ]
  }
 ],
 "metadata": {
  "kernelspec": {
   "display_name": "Python 3",
   "language": "python",
   "name": "python3"
  },
  "language_info": {
   "codemirror_mode": {
    "name": "ipython",
    "version": 3
   },
   "file_extension": ".py",
   "mimetype": "text/x-python",
   "name": "python",
   "nbconvert_exporter": "python",
   "pygments_lexer": "ipython3",
   "version": "3.7.3"
  }
 },
 "nbformat": 4,
 "nbformat_minor": 4
}
